{
  "nbformat": 4,
  "nbformat_minor": 0,
  "metadata": {
    "colab": {
      "provenance": [],
      "toc_visible": true,
      "authorship_tag": "ABX9TyMBEXe0SpoXZKlQBXw018IP",
      "include_colab_link": true
    },
    "kernelspec": {
      "name": "python3",
      "display_name": "Python 3"
    },
    "language_info": {
      "name": "python"
    }
  },
  "cells": [
    {
      "cell_type": "markdown",
      "metadata": {
        "id": "view-in-github",
        "colab_type": "text"
      },
      "source": [
        "<a href=\"https://colab.research.google.com/github/akashshingha850/Biosignal-Processing-1/blob/main/BioSIgnal_Task_1.ipynb\" target=\"_parent\"><img src=\"https://colab.research.google.com/assets/colab-badge.svg\" alt=\"Open In Colab\"/></a>"
      ]
    },
    {
      "cell_type": "code",
      "source": [
        "%%javascript\n",
        "MathJax.Hub.Config({\n",
        "    TeX: { equationNumbers: { autoNumber: \"AMS\" } }\n",
        "});"
      ],
      "metadata": {
        "id": "o3fM3kdO-4_g"
      },
      "execution_count": null,
      "outputs": []
    },
    {
      "cell_type": "markdown",
      "source": [
        "## Task 1: Respiratory Effort Belts\n",
        "\n",
        "Respiratory effort belts are widely used to monitor respiration noninvasively and continuously. They are used, for example, in monitoring respiration during sleep, detecting functional disorders of the respiratory system, and identifying respiratory muscle dysfunctions. Additionally, they provide a comfortable and easy way to monitor the respiration of children and infants. An additional advantage is that respiratory effort belts do not require the use of a face mask or mouthpiece, which could alter the breathing pattern.\n",
        "\n",
        "Without calibration, respiratory belts provide only qualitative information about the movement of the chest and abdomen. After calibration, they can be used quantitatively to measure continuous respiratory volume and airflow.\n",
        "\n",
        "The respiratory system can be considered as a simple physical system with two moving parts: the chest and abdomen [1]. Consequently, the sum of the volume change of the chest and abdomen is equivalent to the volume measured at the mouth. This concept of two degrees forms the basis of various techniques used to calibrate the respiratory effort belts, such as multiple linear regression.\n",
        "\n",
        "A prediction of the respiratory airflow, \\(F_{\\text{est}}\\), is commonly calculated from the respiratory effort belt signals using multiple linear regression [2] to a simultaneous spirometer recording. This baseline model can be established by fitting the following linear model to the time-synchronized signals:\n",
        "\n",
        "F_est= β_1 s_ch + β_2 s_ab + ε\n",
        "\n",
        "where the regressor variables s_ch and s_ab are the respiratory effort belt signals from the chest and abdomen, respectively, and ε is the zero-mean and Gaussian error. β_1 and β_2 are regression coefficients. In this baseline model, one sample of each regressor variable is used at a time to predict the response variable. This model can be extended to include more regressor variables if necessary, for example second order terms (s_ch^2 and s_ab^2) and/or cross-product term (s_ch s_ab).\n",
        "\n",
        "The task in this assignment is to study and test different prediction models, evaluate their performance, and select the best one by completing all the given problems.\n",
        "\n",
        "### Data\n",
        "\n",
        "Movements of the chest and abdomen were measured with the respiratory effort belts [au] (au = arbitrary unit). The spirometer was used to measure airflow signal [ml/s]. These signals were measured at the same time. The spirometer signal is already time-synchronized with the respiratory effort belt signals. The sampling frequencies were 50 Hz for the respiratory effort belt signals and 100 Hz for the spirometer signal.\n",
        "\n",
        "**Note:** In this first assignment, the signals are heavily filtered so that they would be smooth and algorithms would be easy to implement. In the real case, this kind of heavy filtering is usually not acceptable as it distorts signals too much.\n",
        "\n",
        "### Useful MATLAB Commands\n",
        "\n",
        "- `load`, `resample`, `length`, `mean`, `sum`, `power`, `sqrt`, `corr`, `figure`, `subplot`, `plot`, `xlabel`, `ylabel`, `title`, `linspace`, `hold on`, `zeros`\n",
        "\n",
        "### References\n",
        "\n",
        "1. Konno K, Mead J (1967) Measurement of the separate changes of chest and abdomen during breathing. J Appl Physiol 22:407-422.\n",
        "2. Montgomery DC, Peck EA, Vining GG (2001) Introduction to linear regression analysis. 3rd edition. John Wiley & Sons.\n"
      ],
      "metadata": {
        "id": "kLjifGGzza5g"
      }
    },
    {
      "cell_type": "markdown",
      "source": [
        "## 1.1 Resample spirometer data\n",
        "Resample the spirometer signal from 100 Hz into 50 Hz. The data is already in the 2Nx1 vector called 'spiro'.\n",
        "Store the result into the variable called 'spiro_resampled' already given in the solution template!"
      ],
      "metadata": {
        "id": "x8I_FSEY1lvP"
      }
    },
    {
      "cell_type": "code",
      "source": [
        "\"\"\"\n",
        "% Load the data/variables from the file named spirometer.txt\n",
        "spiro = load(\"spirometer.txt\");\n",
        "%a=spiro(1,1)\n",
        "\n",
        "\n",
        "% The spirometer data 'spiro' is a 2Nx1 vector\n",
        "% Resample the spirometer data into 50 Hz\n",
        "\n",
        "%as we have to reduce the frequency to half the coeffecient is 0.5(p/q). so p is 1 and q is 2\n",
        "spiro_resampled = resample(spiro,1,2);\n",
        "%b=spiro_resampled(1,1)\n",
        "\"\"\""
      ],
      "metadata": {
        "id": "x6jmMa6T1t3e"
      },
      "execution_count": null,
      "outputs": []
    },
    {
      "cell_type": "markdown",
      "source": [
        "## 1.2 Predict respiratory airflows\n",
        "Predict the respiratory airflows using the following three models:\n",
        "\n",
        "$$F_{\\text{est}1} = \\beta_1 s_{\\text{ch}} + \\beta_2 s_{\\text{ab}} + \\beta_3 s_{\\text{ch}}^2 + \\beta_4 s_{\\text{ab}}^2$$\n",
        "\n",
        "$$F_{\\text{est}2} = \\beta_1 s_{\\text{ch}} + \\beta_2 s_{\\text{ab}} + \\beta_3 s_{\\text{ch}}^2 + \\beta_4 s_{\\text{ab}}^2$$\n",
        "\n",
        "$$F_{\\text{est}3} = \\beta_1 s_{\\text{ch}} + \\beta_2 s_{\\text{ab}} + \\beta_3 s_{\\text{ch}}^2 + \\beta_4 s_{\\text{ab}}^2$$\n",
        "\n",
        "    \n",
        "where s_ch is the chest belt signal, s_ab is the abdomen belt signal, and betas are the model coefficients. The models have been trained already, and you are given the coefficients representing them.\n",
        "Hint: make Google search “element-wise multiplication”\n",
        "The belt data is a Nx2 matrix called 'belt', the resampled spirometer data is a Nx1 vector, and the coefficients for the models 1-3 are in the vectors 'coeff1', 'coeff2', and 'coeff3', respectively."
      ],
      "metadata": {
        "id": "173gPD2k76Rj"
      }
    },
    {
      "cell_type": "code",
      "source": [
        "\"\"\"\n",
        "% Load the belt data into Nx2 matrix from the file beltsignals.txt\n",
        "belt = load(\"beltsignals.txt\");\n",
        "\n",
        "% Load the resampled spirometer data into Nx1 vector from the file spiro_resampled.mat\n",
        "spiro_resampled = load(\"spiro_resampled.mat\");\n",
        "\n",
        "% Load the regression coefficients vector for the model 1 from the file regressioncoefficients1.txt\n",
        "coeff1 = load(\"regressioncoefficients1.txt\");\n",
        "\n",
        "% Load the regression coefficients vector for the model 2 from the file regressioncoefficients2.txt\n",
        "coeff2 = load(\"regressioncoefficients2.txt\");\n",
        "\n",
        "% Load the regression coefficients vector for the model 3 from the file regressioncoefficients3.txt\n",
        "coeff3 = load(\"regressioncoefficients3.txt\");\n",
        "\n",
        "s_ch = belt(:, 1); %%Chest belt signal\n",
        "s_ab = belt(:, 2); %%Abdomen belt signal\n",
        "\n",
        "% Predict the airflow using the model 1, that is with coeff1\n",
        "flow1 = coeff1(1).*s_ch     + coeff1(2).*s_ab;\n",
        "\n",
        "% Predict the airflow using the model 2, that is with coeff2\n",
        "flow2 = coeff2(1).*s_ch     + coeff2(2).*s_ab   + coeff2(3).*s_ch.*s_ch     + coeff2(4).*s_ab.*s_ab;\n",
        "\n",
        "% Predict the airflow using the model 3,  that is with coeff3\n",
        "flow3 = coeff3(1).*s_ch     + coeff3(2).*s_ab   + coeff3(3).*s_ch.*s_ab;\n",
        "\"\"\""
      ],
      "metadata": {
        "id": "RP3DNSZw3MU8"
      },
      "execution_count": null,
      "outputs": []
    },
    {
      "cell_type": "markdown",
      "source": [
        "## 1.3 Evaluate model performances\n",
        "\n",
        "<div class=\"rootNode rootNodeFixedSize\" style=\"min-width: 100%;\"><div class=\"SectionBlock\"><div class=\"paragraphNode wrappable\" style=\"text-align: left; width: 754px;\"><span class=\"textBox\"><span class=\"textWrapper\">Evaluate the adequacy of the predicted respiratory airflow signals with two methods:</span></span></div><ol class=\"RTClistNode wrappable\" style=\"width: 768px;\"><li class=\"RTClistItem wrappable\" style=\"text-align: left; width: 712px;\"><span class=\"textBox\"><span class=\"textWrapper\">Compute correlation coefficients (formula below)</span></span></li><li class=\"RTClistItem wrappable\" style=\"text-align: left; width: 712px;\"><span class=\"textBox\"><span class=\"textWrapper\">Compute RMSE values (formula below)</span></span></li></ol><div class=\"paragraphNode wrappable\" style=\"text-align: left; width: 754px;\"><span class=\"textBox\"><span class=\"textWrapper\">Which model gives the best results?</span></span></div><div class=\"paragraphNode wrappable\" style=\"text-align: left; width: 754px;\"><span class=\"textBox\"><span class=\"textWrapper\" style=\"font-weight: bold;\">Correlation coefficient</span></span></div><div class=\"paragraphNode wrappable\" style=\"text-align: left; width: 754px;\"><span class=\"textBox\"><span class=\"textWrapper\">To obtain a measure of fit, the correlation coefficient (r) can be computed with the formula</span></span></div>\n",
        "\n",
        "$$\n",
        "r^2 = \\frac{\\left(\\sum_{n=1}^{N}x(n)y(n) - N\\bar{x}\\bar{y}\\right)^2}{\\left(\\sum_{n=1}^{N}x^2(n) - N\\bar{x}^2\\right)\\left(\\sum_{n=1}^{N}y^2(n) - N\\bar{y}^2\\right)}\n",
        "$$\n",
        "\n",
        "<div class=\"paragraphNode wrappable\" style=\"text-align: left; width: 754px;\"><span class=\"textBox\"><span class=\"textWrapper\">where N is the number of samples of x or y, x represents the predicted respiratory airflow signal, and y represents the spirometer airflow signal.</span></span></div>\n",
        "\n",
        "<div class=\"paragraphNode wrappable\" style=\"text-align: left; width: 754px;\"><span class=\"textBox\"><span class=\"textWrapper\" style=\"font-weight: bold;\">Root mean square error (RMSE)</span></span></div>\n",
        "\n",
        "<div class=\"paragraphNode wrappable\" style=\"text-align: left; width: 754px;\"><span class=\"textBox\"><span class=\"textWrapper\">The formula of mean squared error (MSE) is</span></span></div>\n",
        "\n",
        "$$\n",
        "MSE = \\frac{SS_{err}}{n}\n",
        "$$\n",
        "\n",
        "<div class=\"paragraphNode wrappable\" style=\"text-align: left; width: 754px;\"><span class=\"textBox\"><span class=\"textWrapper\">where $SS_{err}$ is called the residual sum of squares. It is a measure of the variability in $y$ (spirometer signal) remaining after regressor $x$ has been considered. Its formula is</span></span></div>\n",
        "\n",
        "$$\n",
        "SS_{err} = \\sum_{i}(y_i - f_i)^2\n",
        "$$\n",
        "\n",
        "</div>\n",
        "\n"
      ],
      "metadata": {
        "id": "dm6v82Z2_5ec"
      }
    },
    {
      "cell_type": "code",
      "source": [
        "\"\"\"\n",
        "% Load the data from the file problem3.mat\n",
        "input_data= load(\"problem3.mat\");\n",
        "\n",
        "belt= input_data.belt;  %% extracting belt from input data\n",
        "\n",
        "% Nx1 vectors flow1, flow2, and flow3 contain the model predictions\n",
        "flow1 = input_data.flow1;\n",
        "flow2 = input_data.flow2;\n",
        "flow3 = input_data.flow3;\n",
        "\n",
        "% Nx1 vector spiro_resampled contains the resampled reference spirometer data\n",
        "spiro_resampled = input_data.spiro_resampled;\n",
        "\n",
        "% Compute the correlation coefficient for the model 1, between flow1 and spiro_resampled\n",
        "corr1 = corr(flow1, spiro_resampled);\n",
        "\n",
        "% Compute the correlation coefficient for the model 2, between flow2 and spiro_resampled\n",
        "corr2 = corr(flow2, spiro_resampled);\n",
        "\n",
        "% Compute the correlation coefficient for the model 3, between flow3 and spiro_resampled\n",
        "corr3 = corr(flow3, spiro_resampled);\n",
        "\n",
        "% Compute the RMSE for the model 1, between flow1 and spiro_resampled\n",
        "rmse1 = rmse(flow1, spiro_resampled);\n",
        "\n",
        "% Compute the RMSE for the model 2, between flow2 and spiro_resampled\n",
        "rmse2 = rmse(flow2, spiro_resampled);\n",
        "\n",
        "% Compute the RMSE for the model 3, between flow3 and spiro_resampled\n",
        "rmse3 = rmse(flow3, spiro_resampled);\n",
        "\"\"\""
      ],
      "metadata": {
        "id": "AYsZoIJVAGGD"
      },
      "execution_count": null,
      "outputs": []
    }
  ]
}