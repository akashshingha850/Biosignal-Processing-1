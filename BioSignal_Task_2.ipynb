{
  "nbformat": 4,
  "nbformat_minor": 0,
  "metadata": {
    "colab": {
      "provenance": [],
      "toc_visible": true,
      "authorship_tag": "ABX9TyOU+eQ3gKlKBRGBwMaR6DWC",
      "include_colab_link": true
    },
    "kernelspec": {
      "name": "python3",
      "display_name": "Python 3"
    },
    "language_info": {
      "name": "python"
    }
  },
  "cells": [
    {
      "cell_type": "markdown",
      "metadata": {
        "id": "view-in-github",
        "colab_type": "text"
      },
      "source": [
        "<a href=\"https://colab.research.google.com/github/akashshingha850/Biosignal-Processing-1/blob/main/BioSignal_Task_2.ipynb\" target=\"_parent\"><img src=\"https://colab.research.google.com/assets/colab-badge.svg\" alt=\"Open In Colab\"/></a>"
      ]
    },
    {
      "cell_type": "markdown",
      "source": [
        "# Task 2 - ECG Filtering to Remove Noise\n",
        "\n",
        "## Learning Objectives\n",
        "\n",
        "After completing this assignment, students will be able to:\n",
        "\n",
        "- Remove high-frequency noise from a signal.\n",
        "- Remove low-frequency noise from a signal.\n",
        "- Remove power-line interference from a signal.\n",
        "- Describe how each filter affects the time and frequency domain.\n",
        "\n",
        "## Background\n",
        "\n",
        "**Read chapter 3 from the course book.**\n",
        "\n",
        "ECG signals are often contaminated with a combination of high-frequency noise, low-frequency noise (baseline wandering), and power-line interference. High-frequency noise may be removed by applying a lowpass filter, and low-frequency noise may be removed by applying a highpass filter. However, improper selection of the cutoff frequencies of the filters could lead to distortions in the ECG signal, such as excessive smoothing or widening of the QRS complex, and distortion of PQ and ST segments.\n",
        "\n",
        "## Useful MATLAB Commands\n",
        "\n",
        "You may find the following MATLAB commands useful for this assignment:\n",
        "\n",
        "`fft`, `filter`, `freqz`, `nextpow2`, `conj`, `ones`, `conv`, `semilogy`, `sgolayfilt`\n"
      ],
      "metadata": {
        "id": "3vl0vXvJDoEy"
      }
    },
    {
      "cell_type": "markdown",
      "source": [
        "## 2.1 Load and select data\n",
        "\n",
        "Load ECG data into MATLAB.\n",
        "The data is stored in files named 'ecg_signal_1.dat', and 'ecg_signal_2.dat'.\n",
        "Select the part from 2 s to 3 s from the first signal, and create sample time vector in seconds for that interval. Similarly, the interval from 1 s to 2 s from the second signal creating the sample time vector in seconds."
      ],
      "metadata": {
        "id": "Dbub2nPcEnqL"
      }
    },
    {
      "cell_type": "code",
      "execution_count": null,
      "metadata": {
        "id": "O83MiXMFDk5G"
      },
      "outputs": [],
      "source": [
        "\"\"\"\n",
        "% The sampling rate is 1000 Hz\n",
        "FS = 1000;\n",
        "TS = 1/FS;\n",
        "\n",
        "% Load ECG 1 into Nx1 vector from the file ecg_signal_1.dat\n",
        "ecg1 = load(\"ecg_signal_1.dat\");\n",
        "\n",
        "% Load ECG 2 into Nx1 vector from the file ecg_signal_2.dat\n",
        "ecg2 = load(\"ecg_signal_2.dat\");\n",
        "\n",
        "% Select the interval [2 s, 3s] samples from ECG 1\n",
        "ecg1_interval = ecg1(2000:3000,1);\n",
        "\n",
        "% Sample times for the interval 1\n",
        "ecg1_interval_t = [2:TS:3];\n",
        "\n",
        "% Select the interval [1 s, 2s] samples from ECG 2\n",
        "ecg2_interval =  ecg2(1000:2000,1);\n",
        "\n",
        "% Sample times for the interval 2\n",
        "ecg2_interval_t =  [1:TS:2];\n",
        "\"\"\""
      ]
    },
    {
      "cell_type": "markdown",
      "source": [
        "## 2.2 Compute power spectrum\n",
        "\n",
        "### Background\n",
        "\n",
        "The power spectrum of *x* is given by:\n",
        "\n",
        "$$\n",
        "S^{(2)}(\\omega) = \\frac{1}{N_{\\text{fft}}} X(\\omega) \\cdot X^*(\\omega)\n",
        "$$\n",
        "\n",
        "where *X* is the FFT of *x*.\n",
        "\n",
        "Thus, the power spectrum can be found by first computing the FFT of *x*, and then multiplying the result by its complex conjugate.\n",
        "\n",
        "### Task\n",
        "\n",
        "Compute and plot the power spectrum of both the ECG signals. The data is in the vectors called 'ecg1' and 'ecg2'.\n",
        "\n",
        "### Useful Commands\n",
        "\n",
        "You may find the following MATLAB commands useful for this task:\n",
        "\n",
        "- `conj`\n",
        "- `fft`\n"
      ],
      "metadata": {
        "id": "ZzRIr-PwE0VM"
      }
    },
    {
      "cell_type": "code",
      "source": [
        "% The sampling rate is 1000 Hz\n",
        "FS = 1000;\n",
        "t = 0:1/FS:1-1/FS;\n",
        "NQ= FS/2;\n",
        "\n",
        "% Load ECG 1 into Nx1 vector from the file ecg_signal_1.dat\n",
        "ecg1 = load(\"ecg_signal_1.dat\");\n",
        "\n",
        "% Load ECG 2 into Nx1 vector from the file ecg_signal_2.dat\n",
        "ecg2 = load(\"ecg_signal_2.dat\");\n",
        "\n",
        "% Compute ECG 1 power spectrum\n",
        "P_ecg1 =  (fft(ecg1).* conj(fft(ecg1))) / length(ecg1);\n",
        "\n",
        "% Compute ECG 2 power spectrum\n",
        "P_ecg2 =  (fft(ecg2).* conj(fft(ecg2))) / length(ecg2);\n",
        "\n",
        "% Compute power spectrum frequency bins from 0 Hz to the Nyquist frequency\n",
        "% For ECG 1\n",
        "f1 = linspace(0, NQ, length(P_ecg1)/2 + 1);\n",
        "% ...and for ECG 2\n",
        "f2 = linspace(0, NQ, length(P_ecg2)/2 + 1);\n"
      ],
      "metadata": {
        "id": "9VnQ_Ob9FJwa"
      },
      "execution_count": null,
      "outputs": []
    },
    {
      "cell_type": "markdown",
      "source": [
        "## 2.3 Moving average filtering\n",
        "\n",
        "### Background\n",
        "\n",
        "The general form of a moving average (MA) filter is given by:\n",
        "\n",
        "$$\n",
        "y(n) = \\sum_{k=0}^{N} b_k x(n - k) \\quad (1)\n",
        "$$\n",
        "\n",
        "Applying the z-transform, we get the transfer function \\(H(z)\\) of the filter as:\n",
        "\n",
        "$$\n",
        "H(z) = \\frac{Y(z)}{X(z)} = \\sum_{k=0}^{N-1} b_k z^{-k}, \\quad b_k = \\frac{1}{N} \\quad (2)\n",
        "$$\n",
        "\n",
        "Given the filter coefficient vectors \\(a\\) and \\(b\\), you can use the 'filter' function to apply the said filter to data in MATLAB.\n",
        "\n",
        "### Task\n",
        "\n",
        "Your task is to construct the 10-point moving average filter, i.e., to specify the vectors \\(a\\) and \\(b\\) that are used with the 'filter' command according to equations (1) and (2).\n",
        "\n",
        "The data is in the vectors called 'ecg1' and 'ecg2'.\n",
        "\n",
        "NOTE: If you are testing your solution online before submitting it, you must first load the data into the dependent variables first as in previous problem(s). This is not required for submissions, as the system loads the data for you.\n"
      ],
      "metadata": {
        "id": "F08ctvWpFMi3"
      }
    },
    {
      "cell_type": "code",
      "source": [
        "\"\"\"\n",
        "% The sampling rate is 1000 Hz\n",
        "FS = 1000;\n",
        "\n",
        "% Load ECG 1 into Nx1 vector from the file ecg_signal_1.dat\n",
        "ecg1 = load(\"ecg_signal_1.dat\");\n",
        "\n",
        "% Load ECG 2 into Nx1 vector from the file ecg_signal_2.dat\n",
        "ecg2 = load(\"ecg_signal_2.dat\");\n",
        "\n",
        "% Create moving average filter coefficients a and b:\n",
        "b = (1/10)*ones(1, 10);\n",
        "a = 1;\n",
        "\n",
        "% Do the filtering using a, b, and ecg1\n",
        "% For ecg1\n",
        "ecg1_filtered = filter(b, a, ecg1);\n",
        "% ...and ecg2\n",
        "ecg2_filtered = filter(b, a, ecg2);\n",
        "\"\"\""
      ],
      "metadata": {
        "id": "woI57PQtFv2J"
      },
      "execution_count": null,
      "outputs": []
    },
    {
      "cell_type": "markdown",
      "source": [
        "## 2.4 Derivative based filtering\n",
        "\n",
        "### Background\n",
        "\n",
        "A derivative-based filter has the following transfer function:\n",
        "\n",
        "$$H(z) = \\frac{Y(z)}{X(z)} = \\frac{1}{T} \\left[ \\frac{1 - z^{-1}}{1 - 0.995 z^{-1}} \\right] \\quad (3).$$\n",
        "\n",
        "### Task\n",
        "\n",
        "Construct the derivative-based filter to remove low-frequency artifact according to equation 3, and normalize the filter to have a maximal gain of unity: divide the gain \\(b\\) by \\(real(max(freq\\_response))\\). In other words, specify and normalize the filter coefficients \\(a\\) and \\(b\\), and use them with the 'filter' command.\n",
        "\n",
        "The data is in the vectors called 'ecg1' and 'ecg2'.\n",
        "\n",
        "### Useful commands\n",
        "\n",
        "- `freqz`\n"
      ],
      "metadata": {
        "id": "i3B8qkWyF1ud"
      }
    },
    {
      "cell_type": "code",
      "source": [
        "\"\"\"\n",
        "% The sampling rate is 1000 Hz\n",
        "FS = 1000;\n",
        "\n",
        "% Load ECG 1 into Nx1 vector from the file ecg_signal_1.dat\n",
        "ecg1 = load(\"ecg_signal_1.dat\");\n",
        "\n",
        "% Load ECG 2 into Nx1 vector from the file ecg_signal_2.dat\n",
        "ecg2 = load(\"ecg_signal_2.dat\");\n",
        "\n",
        "% Create derivative based filter coefficients a and b:\n",
        "b = [1, -1];\n",
        "a = [1, -0.995];\n",
        "b = b / real(max(abs(freqz(b, a))));\n",
        "\n",
        "% Do the filtering using a, b, and ecg1\n",
        "% For ecg1\n",
        "ecg1_filtered = filter(b,a,ecg1);\n",
        "% ...and ecg2\n",
        "ecg2_filtered = filter(b,a,ecg2);\n",
        "\"\"\"\n"
      ],
      "metadata": {
        "id": "Pewwo-lpGb-6"
      },
      "execution_count": null,
      "outputs": []
    },
    {
      "cell_type": "markdown",
      "source": [
        "## 2.5 Comb filtering\n",
        "\n",
        "### Background\n",
        "\n",
        "As noted in the moving average filtering problem, the general form of a MA filter is:\n",
        "\n",
        "$$\n",
        "y(n) = \\sum_{k=0}^{N} b_k x(n - k) \\quad (1)\n",
        "$$\n",
        "\n",
        "In this problem, we are using a comb filter that has the coefficients \\(b = [0.6310, -0.2149, 0.1512, -0.1288, 0.1227, -0.1288, 0.1512, -0.2149, 0.6310]\\) and \\(a = 1\\).\n",
        "\n",
        "### Task\n",
        "\n",
        "Construct the comb filter to remove 60 Hz power line interference, and use it to filter the data.\n",
        "\n",
        "The data is in the vectors called 'ecg1' and 'ecg2'.\n"
      ],
      "metadata": {
        "id": "-ryMR0H6Gjir"
      }
    },
    {
      "cell_type": "code",
      "source": [
        "% The sampling rate is 1000 Hz\n",
        "FS = 1000;\n",
        "\n",
        "% Load ECG 1 into Nx1 vector from the file ecg_signal_1.dat\n",
        "ecg1 = load(\"ecg_signal_1.dat\");\n",
        "\n",
        "% Load ECG 2 into Nx1 vector from the file ecg_signal_2.dat\n",
        "ecg2 = load(\"ecg_signal_2.dat\");\n",
        "\n",
        "% Create comb filter coefficients a and b:\n",
        "b =  [0.6310 -0.2149 0.1512 -0.1288 0.1227 -0.1288 0.1512 -0.2149 0.6310];\n",
        "a =  1;\n",
        "\n",
        "% Do the filtering using a, b, and ecg1\n",
        "% For ecg1\n",
        "ecg1_filtered = filter(b,a,ecg1);\n",
        "% ...and ecg2\n",
        "ecg2_filtered = filter (b,a,ecg2);"
      ],
      "metadata": {
        "id": "5wvgls54G8-i"
      },
      "execution_count": null,
      "outputs": []
    },
    {
      "cell_type": "markdown",
      "source": [
        "## 2.6 Cascaded filtering\n",
        "\n",
        "### Background\n",
        "\n",
        "Cascading time-invariant digital filters in a series creates a new joint filter. The transfer function of the resulting filter is equal to the multiplication of the transfer functions of the individual filters, and the order of the filters in the series (and multiplication) does not matter. And since multiplication in the frequency domain is equal to convolution in the time domain, the response of the joint filter can be obtained as the convolution of the individual filter coefficients.\n",
        "\n",
        "### Task\n",
        "\n",
        "Construct the filter coefficient of the joint filter that combines all the filters in the previous problems, i.e., the moving average filter, derivative-based filter, and the comb filter. Then, use the filter on both the ECG data as previously.\n",
        "\n",
        "The ECG data is in the vectors called 'ecg1' and 'ecg2'.\n",
        "\n",
        "### Useful commands\n",
        "\n",
        "- `conv`\n",
        "\n",
        "### Note\n",
        "\n",
        "Please remind that you have to copy the coefficients from the previous solutions here as they are not passed on to different tasks.\n"
      ],
      "metadata": {
        "id": "zcedB-66HApf"
      }
    },
    {
      "cell_type": "code",
      "source": [
        "\"\"\"\n",
        "% The sampling rate is 1000 Hz\n",
        "FS = 1000;\n",
        "\n",
        "% Load ECG 1 into Nx1 vector from the file ecg_signal_1.dat\n",
        "ecg1 = load(\"ecg_signal_1.dat\");\n",
        "\n",
        "% Load ECG 2 into Nx1 vector from the file ecg_signal_2.dat\n",
        "ecg2 = load(\"ecg_signal_2.dat\");\n",
        "\n",
        "% Create cascaded filter coefficients a and b using convolution\n",
        "\n",
        "%% moving avg filter\n",
        "b_ma = (1/10)*ones(1, 10);\n",
        "a_ma = 1;\n",
        "\n",
        "%% derivetive filter\n",
        "b_df = [1, -1];\n",
        "a_df = [1, -0.995];\n",
        "b_df = b_df / real(max(abs(freqz(b_df, a_df))));\n",
        "\n",
        "%% comb filter\n",
        "b_cf = [0.6310, -0.2149, 0.1512, -0.1288, 0.1227, -0.1288, 0.1512, -0.2149, 0.6310];\n",
        "a_cf = 1;\n",
        "\n",
        "b = conv(conv(b_ma, b_df), b_cf);\n",
        "a = conv(conv(a_ma, a_df), a_cf);\n",
        "\n",
        "% Do the filtering using a, b, and ecg1\n",
        "\n",
        "% For ecg1\n",
        "ecg1_filtered = filter(b, a, ecg1);\n",
        "% ...and ecg2\n",
        "ecg2_filtered = filter(b, a, ecg2);\n",
        "\"\"\"\n"
      ],
      "metadata": {
        "id": "r3H_52nbHIa-"
      },
      "execution_count": null,
      "outputs": []
    }
  ]
}